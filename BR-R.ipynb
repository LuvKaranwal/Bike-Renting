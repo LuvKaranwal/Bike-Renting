{
 "cells": [
  {
   "cell_type": "markdown",
   "metadata": {},
   "source": [
    "## Loading Data"
   ]
  },
  {
   "cell_type": "code",
   "execution_count": 1,
   "metadata": {},
   "outputs": [
    {
     "name": "stdout",
     "output_type": "stream",
     "text": [
      "'data.frame':\t731 obs. of  16 variables:\n",
      " $ instant   : int  1 2 3 4 5 6 7 8 9 10 ...\n",
      " $ dteday    : Factor w/ 731 levels \"2011-01-01\",\"2011-01-02\",..: 1 2 3 4 5 6 7 8 9 10 ...\n",
      " $ season    : int  1 1 1 1 1 1 1 1 1 1 ...\n",
      " $ yr        : int  0 0 0 0 0 0 0 0 0 0 ...\n",
      " $ mnth      : int  1 1 1 1 1 1 1 1 1 1 ...\n",
      " $ holiday   : int  0 0 0 0 0 0 0 0 0 0 ...\n",
      " $ weekday   : int  6 0 1 2 3 4 5 6 0 1 ...\n",
      " $ workingday: int  0 0 1 1 1 1 1 0 0 1 ...\n",
      " $ weathersit: int  2 2 1 1 1 1 2 2 1 1 ...\n",
      " $ temp      : num  0.344 0.363 0.196 0.2 0.227 ...\n",
      " $ atemp     : num  0.364 0.354 0.189 0.212 0.229 ...\n",
      " $ hum       : num  0.806 0.696 0.437 0.59 0.437 ...\n",
      " $ windspeed : num  0.16 0.249 0.248 0.16 0.187 ...\n",
      " $ casual    : int  331 131 120 108 82 88 148 68 54 41 ...\n",
      " $ registered: int  654 670 1229 1454 1518 1518 1362 891 768 1280 ...\n",
      " $ cnt       : int  985 801 1349 1562 1600 1606 1510 959 822 1321 ...\n"
     ]
    }
   ],
   "source": [
    "rm(list=ls())\n",
    "brp=read.csv(\"day.csv\",header = T,na.strings = c(\" \",\"\",\"NA\"))\n",
    "str(brp)"
   ]
  },
  {
   "cell_type": "markdown",
   "metadata": {},
   "source": [
    "## Loading Packages"
   ]
  },
  {
   "cell_type": "code",
   "execution_count": 2,
   "metadata": {},
   "outputs": [
    {
     "name": "stderr",
     "output_type": "stream",
     "text": [
      "Loading required package: ggplot2\n",
      "\n",
      "Loading required package: corrgram\n",
      "\n",
      "Registered S3 method overwritten by 'seriation':\n",
      "  method         from \n",
      "  reorder.hclust gclus\n",
      "\n",
      "Loading required package: DMwR\n",
      "\n",
      "Loading required package: lattice\n",
      "\n",
      "\n",
      "Attaching package: 'lattice'\n",
      "\n",
      "\n",
      "The following object is masked from 'package:corrgram':\n",
      "\n",
      "    panel.fill\n",
      "\n",
      "\n",
      "Loading required package: grid\n",
      "\n",
      "Registered S3 method overwritten by 'quantmod':\n",
      "  method            from\n",
      "  as.zoo.data.frame zoo \n",
      "\n",
      "Loading required package: caret\n",
      "\n",
      "Loading required package: randomForest\n",
      "\n",
      "randomForest 4.6-14\n",
      "\n",
      "Type rfNews() to see new features/changes/bug fixes.\n",
      "\n",
      "\n",
      "Attaching package: 'randomForest'\n",
      "\n",
      "\n",
      "The following object is masked from 'package:ggplot2':\n",
      "\n",
      "    margin\n",
      "\n",
      "\n",
      "Loading required package: unbalanced\n",
      "\n",
      "Loading required package: mlr\n",
      "\n",
      "Loading required package: ParamHelpers\n",
      "\n",
      "'mlr' is in maintenance mode since July 2019. Future development\n",
      "efforts will go into its successor 'mlr3' (<https://mlr3.mlr-org.com>).\n",
      "\n",
      "\n",
      "Attaching package: 'mlr'\n",
      "\n",
      "\n",
      "The following object is masked from 'package:caret':\n",
      "\n",
      "    train\n",
      "\n",
      "\n",
      "Loading required package: foreach\n",
      "\n",
      "Loading required package: doParallel\n",
      "\n",
      "Loading required package: iterators\n",
      "\n",
      "Loading required package: parallel\n",
      "\n",
      "Loading required package: C50\n",
      "\n",
      "Loading required package: inTrees\n",
      "\n",
      "Registered S3 method overwritten by 'RRF':\n",
      "  method      from        \n",
      "  plot.margin randomForest\n",
      "\n",
      "Loading required package: dummies\n",
      "\n",
      "dummies-1.5.6 provided by Decision Patterns\n",
      "\n",
      "\n",
      "Loading required package: e1071\n",
      "\n",
      "\n",
      "Attaching package: 'e1071'\n",
      "\n",
      "\n",
      "The following object is masked from 'package:mlr':\n",
      "\n",
      "    impute\n",
      "\n",
      "\n",
      "Loading required package: Information\n",
      "\n",
      "Loading required package: MASS\n",
      "\n",
      "Loading required package: rpart\n",
      "\n",
      "Loading required package: gbm\n",
      "\n",
      "Loaded gbm 2.1.5\n",
      "\n",
      "Loading required package: ROSE\n",
      "\n",
      "Loaded ROSE 0.0-3\n",
      "\n",
      "\n",
      "Loading required package: sampling\n",
      "\n",
      "\n",
      "Attaching package: 'sampling'\n",
      "\n",
      "\n",
      "The following object is masked from 'package:caret':\n",
      "\n",
      "    cluster\n",
      "\n",
      "\n",
      "Loading required package: RRF\n",
      "\n",
      "RRF 1.9.1\n",
      "\n",
      "Type rrfNews() to see new features/changes/bug fixes.\n",
      "\n",
      "\n",
      "Attaching package: 'RRF'\n",
      "\n",
      "\n",
      "The following objects are masked from 'package:randomForest':\n",
      "\n",
      "    classCenter, combine, getTree, grow, importance, margin, MDSplot,\n",
      "    na.roughfix, outlier, partialPlot, treesize, varImpPlot, varUsed\n",
      "\n",
      "\n",
      "The following object is masked from 'package:ggplot2':\n",
      "\n",
      "    margin\n",
      "\n",
      "\n",
      "Loading required package: AICcmodavg\n",
      "\n",
      "\n",
      "Attaching package: 'AICcmodavg'\n",
      "\n",
      "\n",
      "The following object is masked from 'package:RRF':\n",
      "\n",
      "    importance\n",
      "\n",
      "\n",
      "The following object is masked from 'package:randomForest':\n",
      "\n",
      "    importance\n",
      "\n",
      "\n",
      "Loading required package: Metrics\n",
      "\n",
      "\n",
      "Attaching package: 'Metrics'\n",
      "\n",
      "\n",
      "The following objects are masked from 'package:caret':\n",
      "\n",
      "    precision, recall\n",
      "\n",
      "\n",
      "Loading required package: glmnet\n",
      "\n",
      "Loading required package: Matrix\n",
      "\n",
      "Loaded glmnet 4.0-2\n",
      "\n"
     ]
    },
    {
     "data": {
      "text/html": [
       "<ol>\n",
       "\t<li>TRUE</li>\n",
       "\t<li>TRUE</li>\n",
       "\t<li>TRUE</li>\n",
       "\t<li>TRUE</li>\n",
       "\t<li>TRUE</li>\n",
       "\t<li>TRUE</li>\n",
       "\t<li>TRUE</li>\n",
       "\t<li>TRUE</li>\n",
       "\t<li>TRUE</li>\n",
       "\t<li>TRUE</li>\n",
       "\t<li>TRUE</li>\n",
       "\t<li>TRUE</li>\n",
       "\t<li>TRUE</li>\n",
       "\t<li>TRUE</li>\n",
       "\t<li>TRUE</li>\n",
       "\t<li>TRUE</li>\n",
       "\t<li>TRUE</li>\n",
       "\t<li>TRUE</li>\n",
       "\t<li>TRUE</li>\n",
       "\t<li>TRUE</li>\n",
       "</ol>\n"
      ],
      "text/latex": [
       "\\begin{enumerate}\n",
       "\\item TRUE\n",
       "\\item TRUE\n",
       "\\item TRUE\n",
       "\\item TRUE\n",
       "\\item TRUE\n",
       "\\item TRUE\n",
       "\\item TRUE\n",
       "\\item TRUE\n",
       "\\item TRUE\n",
       "\\item TRUE\n",
       "\\item TRUE\n",
       "\\item TRUE\n",
       "\\item TRUE\n",
       "\\item TRUE\n",
       "\\item TRUE\n",
       "\\item TRUE\n",
       "\\item TRUE\n",
       "\\item TRUE\n",
       "\\item TRUE\n",
       "\\item TRUE\n",
       "\\end{enumerate}\n"
      ],
      "text/markdown": [
       "1. TRUE\n",
       "2. TRUE\n",
       "3. TRUE\n",
       "4. TRUE\n",
       "5. TRUE\n",
       "6. TRUE\n",
       "7. TRUE\n",
       "8. TRUE\n",
       "9. TRUE\n",
       "10. TRUE\n",
       "11. TRUE\n",
       "12. TRUE\n",
       "13. TRUE\n",
       "14. TRUE\n",
       "15. TRUE\n",
       "16. TRUE\n",
       "17. TRUE\n",
       "18. TRUE\n",
       "19. TRUE\n",
       "20. TRUE\n",
       "\n",
       "\n"
      ],
      "text/plain": [
       "[[1]]\n",
       "[1] TRUE\n",
       "\n",
       "[[2]]\n",
       "[1] TRUE\n",
       "\n",
       "[[3]]\n",
       "[1] TRUE\n",
       "\n",
       "[[4]]\n",
       "[1] TRUE\n",
       "\n",
       "[[5]]\n",
       "[1] TRUE\n",
       "\n",
       "[[6]]\n",
       "[1] TRUE\n",
       "\n",
       "[[7]]\n",
       "[1] TRUE\n",
       "\n",
       "[[8]]\n",
       "[1] TRUE\n",
       "\n",
       "[[9]]\n",
       "[1] TRUE\n",
       "\n",
       "[[10]]\n",
       "[1] TRUE\n",
       "\n",
       "[[11]]\n",
       "[1] TRUE\n",
       "\n",
       "[[12]]\n",
       "[1] TRUE\n",
       "\n",
       "[[13]]\n",
       "[1] TRUE\n",
       "\n",
       "[[14]]\n",
       "[1] TRUE\n",
       "\n",
       "[[15]]\n",
       "[1] TRUE\n",
       "\n",
       "[[16]]\n",
       "[1] TRUE\n",
       "\n",
       "[[17]]\n",
       "[1] TRUE\n",
       "\n",
       "[[18]]\n",
       "[1] TRUE\n",
       "\n",
       "[[19]]\n",
       "[1] TRUE\n",
       "\n",
       "[[20]]\n",
       "[1] TRUE\n"
      ]
     },
     "metadata": {},
     "output_type": "display_data"
    }
   ],
   "source": [
    "x=c(\"ggplot2\",\"corrgram\",\"DMwR\",\"caret\",\"randomForest\",\"unbalanced\",\"C50\",\"inTrees\",\n",
    "    \"dummies\",\"e1071\",\"Information\",\"MASS\",\"rpart\",\"gbm\",\"ROSE\",\"sampling\",\"RRF\",\"AICcmodavg\",\"Metrics\",\"glmnet\")\n",
    "lapply(x,require,character.only = TRUE)\n",
    "rm(x)"
   ]
  },
  {
   "cell_type": "markdown",
   "metadata": {},
   "source": [
    "## For input data"
   ]
  },
  {
   "cell_type": "code",
   "execution_count": 3,
   "metadata": {},
   "outputs": [
    {
     "name": "stdout",
     "output_type": "stream",
     "text": [
      "[1] \"sample case values: 2012-12-26 1  1  12  0  3  1  3  0.243333  0.220333  0.823333  0.316546  9  432  441\"\n",
      "Enter dteday: 2012-12-26\n",
      "Enter season: 1\n",
      "Enter yr: 1\n",
      "Enter month: 12\n",
      "Enter holiday: 0\n",
      "Enter weekday: 3\n",
      "Enter workingday: 1\n",
      "Enter weathersit: 3\n",
      "Enter temp: 0.243\n",
      "Enter atemp: 0.2203\n",
      "Enter hum: 0.823\n",
      "Enter windspeed: 0.314\n"
     ]
    }
   ],
   "source": [
    "# sample case values: 2012-12-26\t1\t1\t12\t0\t3\t1\t3\t0.243333\t0.220333\t0.823333\t0.316546\t9\t432\t441\n",
    "\n",
    "print(\"sample case values: 2012-12-26 1  1  12  0  3  1  3  0.243333  0.220333  0.823333  0.316546  9  432  441\")\n",
    "dteday = readline(prompt=\"Enter dteday: \")\n",
    "season = as.integer(readline(prompt=\"Enter season: \"))\n",
    "yr = as.integer(readline(prompt=\"Enter yr: \"))\n",
    "mnth = as.integer(readline(prompt=\"Enter month: \"))\n",
    "holiday = as.integer(readline(prompt=\"Enter holiday: \"))\n",
    "weekday = as.integer(readline(prompt=\"Enter weekday: \"))\n",
    "workingday = as.integer(readline(prompt=\"Enter workingday: \"))\n",
    "weathersit = as.integer(readline(prompt=\"Enter weathersit: \"))\n",
    "temp = as.double(readline(prompt=\"Enter temp: \"))\n",
    "atemp = as.double(readline(prompt=\"Enter atemp: \"))\n",
    "hum = as.double(readline(prompt=\"Enter hum: \"))\n",
    "windspeed = as.double(readline(prompt=\"Enter windspeed: \"))\n"
   ]
  },
  {
   "cell_type": "code",
   "execution_count": 4,
   "metadata": {},
   "outputs": [
    {
     "name": "stdout",
     "output_type": "stream",
     "text": [
      "'data.frame':\t731 obs. of  16 variables:\n",
      " $ instant   : int  1 2 3 4 5 6 7 8 9 10 ...\n",
      " $ dteday    : Factor w/ 731 levels \"2011-01-01\",\"2011-01-02\",..: 1 2 3 4 5 6 7 8 9 10 ...\n",
      " $ season    : int  1 1 1 1 1 1 1 1 1 1 ...\n",
      " $ yr        : int  0 0 0 0 0 0 0 0 0 0 ...\n",
      " $ month     : int  1 1 1 1 1 1 1 1 1 1 ...\n",
      " $ holiday   : int  0 0 0 0 0 0 0 0 0 0 ...\n",
      " $ weekday   : int  6 0 1 2 3 4 5 6 0 1 ...\n",
      " $ workingday: int  0 0 1 1 1 1 1 0 0 1 ...\n",
      " $ weathersit: int  2 2 1 1 1 1 2 2 1 1 ...\n",
      " $ temp      : num  0.344 0.363 0.196 0.2 0.227 ...\n",
      " $ atemp     : num  0.364 0.354 0.189 0.212 0.229 ...\n",
      " $ hum       : num  0.806 0.696 0.437 0.59 0.437 ...\n",
      " $ windspeed : num  0.16 0.249 0.248 0.16 0.187 ...\n",
      " $ casual    : int  331 131 120 108 82 88 148 68 54 41 ...\n",
      " $ registered: int  654 670 1229 1454 1518 1518 1362 891 768 1280 ...\n",
      " $ count     : int  985 801 1349 1562 1600 1606 1510 959 822 1321 ...\n"
     ]
    }
   ],
   "source": [
    "names(brp)[names(brp) == \"mnth\"] <- \"month\"\n",
    "names(brp)[names(brp) == \"cnt\"] <- \"count\"\n",
    "str(brp)"
   ]
  },
  {
   "cell_type": "markdown",
   "metadata": {},
   "source": [
    "## Boxplot for variables"
   ]
  },
  {
   "cell_type": "code",
   "execution_count": 5,
   "metadata": {},
   "outputs": [
    {
     "data": {
      "text/html": [
       "<style>\n",
       ".list-inline {list-style: none; margin:0; padding: 0}\n",
       ".list-inline>li {display: inline-block}\n",
       ".list-inline>li:not(:last-child)::after {content: \"\\00b7\"; padding: 0 .5ex}\n",
       "</style>\n",
       "<ol class=list-inline><li>'instant'</li><li>'season'</li><li>'yr'</li><li>'month'</li><li>'holiday'</li><li>'weekday'</li><li>'workingday'</li><li>'weathersit'</li><li>'temp'</li><li>'atemp'</li><li>'hum'</li><li>'windspeed'</li><li>'casual'</li><li>'registered'</li><li>'count'</li></ol>\n"
      ],
      "text/latex": [
       "\\begin{enumerate*}\n",
       "\\item 'instant'\n",
       "\\item 'season'\n",
       "\\item 'yr'\n",
       "\\item 'month'\n",
       "\\item 'holiday'\n",
       "\\item 'weekday'\n",
       "\\item 'workingday'\n",
       "\\item 'weathersit'\n",
       "\\item 'temp'\n",
       "\\item 'atemp'\n",
       "\\item 'hum'\n",
       "\\item 'windspeed'\n",
       "\\item 'casual'\n",
       "\\item 'registered'\n",
       "\\item 'count'\n",
       "\\end{enumerate*}\n"
      ],
      "text/markdown": [
       "1. 'instant'\n",
       "2. 'season'\n",
       "3. 'yr'\n",
       "4. 'month'\n",
       "5. 'holiday'\n",
       "6. 'weekday'\n",
       "7. 'workingday'\n",
       "8. 'weathersit'\n",
       "9. 'temp'\n",
       "10. 'atemp'\n",
       "11. 'hum'\n",
       "12. 'windspeed'\n",
       "13. 'casual'\n",
       "14. 'registered'\n",
       "15. 'count'\n",
       "\n",
       "\n"
      ],
      "text/plain": [
       " [1] \"instant\"    \"season\"     \"yr\"         \"month\"      \"holiday\"   \n",
       " [6] \"weekday\"    \"workingday\" \"weathersit\" \"temp\"       \"atemp\"     \n",
       "[11] \"hum\"        \"windspeed\"  \"casual\"     \"registered\" \"count\"     "
      ]
     },
     "metadata": {},
     "output_type": "display_data"
    },
    {
     "data": {
      "image/png": "[encoded data removed]",
      "text/plain": [
       "plot without title"
      ]
     },
     "metadata": {
      "image/png": {
       "height": 420,
       "width": 420
      },
      "text/plain": {
       "height": 420,
       "width": 420
      }
     },
     "output_type": "display_data"
    },
    {
     "data": {
      "image/png": "[encoded data removed]",
      "text/plain": [
       "plot without title"
      ]
     },
     "metadata": {
      "image/png": {
       "height": 420,
       "width": 420
      },
      "text/plain": {
       "height": 420,
       "width": 420
      }
     },
     "output_type": "display_data"
    },
    {
     "data": {
      "image/png": "[encoded data removed]",
      "text/plain": [
       "plot without title"
      ]
     },
     "metadata": {
      "image/png": {
       "height": 420,
       "width": 420
      },
      "text/plain": {
       "height": 420,
       "width": 420
      }
     },
     "output_type": "display_data"
    },
    {
     "data": {
      "image/png": "[encoded data removed]",
      "text/plain": [
       "plot without title"
      ]
     },
     "metadata": {
      "image/png": {
       "height": 420,
       "width": 420
      },
      "text/plain": {
       "height": 420,
       "width": 420
      }
     },
     "output_type": "display_data"
    }
   ],
   "source": [
    "# (1).Box plot\n",
    "options(warn=-1)\n",
    "# brp$casual = toString(brp$casual)\n",
    "# brp$registered = toString(brp$registered)\n",
    "\n",
    "numeric_index = sapply(brp ,is.numeric)\n",
    "numeric_data = brp[,numeric_index]\n",
    "cnames = colnames(numeric_data)\n",
    "cnames\n",
    "for(i in 1:length(cnames))\n",
    "{\n",
    "  assign(paste0(\"gn\",i), ggplot(aes_string(y = (cnames[i]), x = \"count\"), data = subset(brp))+\n",
    "           stat_boxplot(geom = \"errorbar\" , width = 0.5)+\n",
    "           geom_boxplot(outlier.color=\"red\",fill =\"grey\",outlier.shape = 18,\n",
    "                        outlier.size=1,notch=FALSE)+\n",
    "           theme(legend.position=\"bottom\")+\n",
    "           labs(y=cnames[i],x= \"count\")+\n",
    "           ggtitle(paste(\"Box plot for\", cnames[i])))        \n",
    "}\n",
    "\n",
    "#Plotting plots together\n",
    "#gridExtra is library name\n",
    "\n",
    "gridExtra::grid.arrange(gn1,gn2,gn3,ncol=3)\n",
    "gridExtra::grid.arrange(gn4,gn5,gn6,ncol=3)\n",
    "gridExtra::grid.arrange(gn7,gn8,gn9,ncol=3)\n",
    "gridExtra::grid.arrange(gn10,gn11,gn12,ncol=3)\n",
    "\n",
    "options(warn=0)\n",
    "\n",
    "# brp$casual = as.integer(brp$casual)\n",
    "# brp$registered = as.integer(brp$registered)\n",
    "# head(brp)"
   ]
  },
  {
   "cell_type": "markdown",
   "metadata": {},
   "source": [
    "## Outlier deduction and removal"
   ]
  },
  {
   "cell_type": "code",
   "execution_count": 6,
   "metadata": {},
   "outputs": [
    {
     "data": {
      "text/html": [
       "<table>\n",
       "<caption>A data.frame: 5 × 11</caption>\n",
       "<thead>\n",
       "\t<tr><th></th><th scope=col>instant</th><th scope=col>season</th><th scope=col>yr</th><th scope=col>month</th><th scope=col>weekday</th><th scope=col>workingday</th><th scope=col>weathersit</th><th scope=col>temp</th><th scope=col>atemp</th><th scope=col>hum</th><th scope=col>windspeed</th></tr>\n",
       "\t<tr><th></th><th scope=col>&lt;int&gt;</th><th scope=col>&lt;int&gt;</th><th scope=col>&lt;int&gt;</th><th scope=col>&lt;int&gt;</th><th scope=col>&lt;int&gt;</th><th scope=col>&lt;int&gt;</th><th scope=col>&lt;int&gt;</th><th scope=col>&lt;dbl&gt;</th><th scope=col>&lt;dbl&gt;</th><th scope=col>&lt;dbl&gt;</th><th scope=col>&lt;dbl&gt;</th></tr>\n",
       "</thead>\n",
       "<tbody>\n",
       "\t<tr><th scope=row>1</th><td>1</td><td>1</td><td>0</td><td>1</td><td>6</td><td>0</td><td>2</td><td>0.344167</td><td>0.363625</td><td>0.805833</td><td>0.160446</td></tr>\n",
       "\t<tr><th scope=row>2</th><td>2</td><td>1</td><td>0</td><td>1</td><td>0</td><td>0</td><td>2</td><td>0.363478</td><td>0.353739</td><td>0.696087</td><td>0.248539</td></tr>\n",
       "\t<tr><th scope=row>3</th><td>3</td><td>1</td><td>0</td><td>1</td><td>1</td><td>1</td><td>1</td><td>0.196364</td><td>0.189405</td><td>0.437273</td><td>0.248309</td></tr>\n",
       "\t<tr><th scope=row>4</th><td>4</td><td>1</td><td>0</td><td>1</td><td>2</td><td>1</td><td>1</td><td>0.200000</td><td>0.212122</td><td>0.590435</td><td>0.160296</td></tr>\n",
       "\t<tr><th scope=row>5</th><td>5</td><td>1</td><td>0</td><td>1</td><td>3</td><td>1</td><td>1</td><td>0.226957</td><td>0.229270</td><td>0.436957</td><td>0.186900</td></tr>\n",
       "</tbody>\n",
       "</table>\n"
      ],
      "text/latex": [
       "A data.frame: 5 × 11\n",
       "\\begin{tabular}{r|lllllllllll}\n",
       "  & instant & season & yr & month & weekday & workingday & weathersit & temp & atemp & hum & windspeed\\\\\n",
       "  & <int> & <int> & <int> & <int> & <int> & <int> & <int> & <dbl> & <dbl> & <dbl> & <dbl>\\\\\n",
       "\\hline\n",
       "\t1 & 1 & 1 & 0 & 1 & 6 & 0 & 2 & 0.344167 & 0.363625 & 0.805833 & 0.160446\\\\\n",
       "\t2 & 2 & 1 & 0 & 1 & 0 & 0 & 2 & 0.363478 & 0.353739 & 0.696087 & 0.248539\\\\\n",
       "\t3 & 3 & 1 & 0 & 1 & 1 & 1 & 1 & 0.196364 & 0.189405 & 0.437273 & 0.248309\\\\\n",
       "\t4 & 4 & 1 & 0 & 1 & 2 & 1 & 1 & 0.200000 & 0.212122 & 0.590435 & 0.160296\\\\\n",
       "\t5 & 5 & 1 & 0 & 1 & 3 & 1 & 1 & 0.226957 & 0.229270 & 0.436957 & 0.186900\\\\\n",
       "\\end{tabular}\n"
      ],
      "text/markdown": [
       "\n",
       "A data.frame: 5 × 11\n",
       "\n",
       "| <!--/--> | instant &lt;int&gt; | season &lt;int&gt; | yr &lt;int&gt; | month &lt;int&gt; | weekday &lt;int&gt; | workingday &lt;int&gt; | weathersit &lt;int&gt; | temp &lt;dbl&gt; | atemp &lt;dbl&gt; | hum &lt;dbl&gt; | windspeed &lt;dbl&gt; |\n",
       "|---|---|---|---|---|---|---|---|---|---|---|---|\n",
       "| 1 | 1 | 1 | 0 | 1 | 6 | 0 | 2 | 0.344167 | 0.363625 | 0.805833 | 0.160446 |\n",
       "| 2 | 2 | 1 | 0 | 1 | 0 | 0 | 2 | 0.363478 | 0.353739 | 0.696087 | 0.248539 |\n",
       "| 3 | 3 | 1 | 0 | 1 | 1 | 1 | 1 | 0.196364 | 0.189405 | 0.437273 | 0.248309 |\n",
       "| 4 | 4 | 1 | 0 | 1 | 2 | 1 | 1 | 0.200000 | 0.212122 | 0.590435 | 0.160296 |\n",
       "| 5 | 5 | 1 | 0 | 1 | 3 | 1 | 1 | 0.226957 | 0.229270 | 0.436957 | 0.186900 |\n",
       "\n"
      ],
      "text/plain": [
       "  instant season yr month weekday workingday weathersit temp     atemp   \n",
       "1 1       1      0  1     6       0          2          0.344167 0.363625\n",
       "2 2       1      0  1     0       0          2          0.363478 0.353739\n",
       "3 3       1      0  1     1       1          1          0.196364 0.189405\n",
       "4 4       1      0  1     2       1          1          0.200000 0.212122\n",
       "5 5       1      0  1     3       1          1          0.226957 0.229270\n",
       "  hum      windspeed\n",
       "1 0.805833 0.160446 \n",
       "2 0.696087 0.248539 \n",
       "3 0.437273 0.248309 \n",
       "4 0.590435 0.160296 \n",
       "5 0.436957 0.186900 "
      ]
     },
     "metadata": {},
     "output_type": "display_data"
    },
    {
     "data": {
      "text/html": [
       "<table>\n",
       "<caption>A data.frame: 5 × 15</caption>\n",
       "<thead>\n",
       "\t<tr><th></th><th scope=col>instant</th><th scope=col>season</th><th scope=col>yr</th><th scope=col>month</th><th scope=col>holiday</th><th scope=col>weekday</th><th scope=col>workingday</th><th scope=col>weathersit</th><th scope=col>temp</th><th scope=col>atemp</th><th scope=col>hum</th><th scope=col>windspeed</th><th scope=col>casual</th><th scope=col>registered</th><th scope=col>count</th></tr>\n",
       "\t<tr><th></th><th scope=col>&lt;int&gt;</th><th scope=col>&lt;int&gt;</th><th scope=col>&lt;int&gt;</th><th scope=col>&lt;int&gt;</th><th scope=col>&lt;int&gt;</th><th scope=col>&lt;int&gt;</th><th scope=col>&lt;int&gt;</th><th scope=col>&lt;int&gt;</th><th scope=col>&lt;dbl&gt;</th><th scope=col>&lt;dbl&gt;</th><th scope=col>&lt;dbl&gt;</th><th scope=col>&lt;dbl&gt;</th><th scope=col>&lt;int&gt;</th><th scope=col>&lt;int&gt;</th><th scope=col>&lt;int&gt;</th></tr>\n",
       "</thead>\n",
       "<tbody>\n",
       "\t<tr><th scope=row>1</th><td>1</td><td>1</td><td>0</td><td>1</td><td>0</td><td>6</td><td>0</td><td>2</td><td>0.344167</td><td>0.363625</td><td>0.805833</td><td>0.160446</td><td>331</td><td> 654</td><td> 985</td></tr>\n",
       "\t<tr><th scope=row>2</th><td>2</td><td>1</td><td>0</td><td>1</td><td>0</td><td>0</td><td>0</td><td>2</td><td>0.363478</td><td>0.353739</td><td>0.696087</td><td>0.248539</td><td>131</td><td> 670</td><td> 801</td></tr>\n",
       "\t<tr><th scope=row>3</th><td>3</td><td>1</td><td>0</td><td>1</td><td>0</td><td>1</td><td>1</td><td>1</td><td>0.196364</td><td>0.189405</td><td>0.437273</td><td>0.248309</td><td>120</td><td>1229</td><td>1349</td></tr>\n",
       "\t<tr><th scope=row>4</th><td>4</td><td>1</td><td>0</td><td>1</td><td>0</td><td>2</td><td>1</td><td>1</td><td>0.200000</td><td>0.212122</td><td>0.590435</td><td>0.160296</td><td>108</td><td>1454</td><td>1562</td></tr>\n",
       "\t<tr><th scope=row>5</th><td>5</td><td>1</td><td>0</td><td>1</td><td>0</td><td>3</td><td>1</td><td>1</td><td>0.226957</td><td>0.229270</td><td>0.436957</td><td>0.186900</td><td> 82</td><td>1518</td><td>1600</td></tr>\n",
       "</tbody>\n",
       "</table>\n"
      ],
      "text/latex": [
       "A data.frame: 5 × 15\n",
       "\\begin{tabular}{r|lllllllllllllll}\n",
       "  & instant & season & yr & month & holiday & weekday & workingday & weathersit & temp & atemp & hum & windspeed & casual & registered & count\\\\\n",
       "  & <int> & <int> & <int> & <int> & <int> & <int> & <int> & <int> & <dbl> & <dbl> & <dbl> & <dbl> & <int> & <int> & <int>\\\\\n",
       "\\hline\n",
       "\t1 & 1 & 1 & 0 & 1 & 0 & 6 & 0 & 2 & 0.344167 & 0.363625 & 0.805833 & 0.160446 & 331 &  654 &  985\\\\\n",
       "\t2 & 2 & 1 & 0 & 1 & 0 & 0 & 0 & 2 & 0.363478 & 0.353739 & 0.696087 & 0.248539 & 131 &  670 &  801\\\\\n",
       "\t3 & 3 & 1 & 0 & 1 & 0 & 1 & 1 & 1 & 0.196364 & 0.189405 & 0.437273 & 0.248309 & 120 & 1229 & 1349\\\\\n",
       "\t4 & 4 & 1 & 0 & 1 & 0 & 2 & 1 & 1 & 0.200000 & 0.212122 & 0.590435 & 0.160296 & 108 & 1454 & 1562\\\\\n",
       "\t5 & 5 & 1 & 0 & 1 & 0 & 3 & 1 & 1 & 0.226957 & 0.229270 & 0.436957 & 0.186900 &  82 & 1518 & 1600\\\\\n",
       "\\end{tabular}\n"
      ],
      "text/markdown": [
       "\n",
       "A data.frame: 5 × 15\n",
       "\n",
       "| <!--/--> | instant &lt;int&gt; | season &lt;int&gt; | yr &lt;int&gt; | month &lt;int&gt; | holiday &lt;int&gt; | weekday &lt;int&gt; | workingday &lt;int&gt; | weathersit &lt;int&gt; | temp &lt;dbl&gt; | atemp &lt;dbl&gt; | hum &lt;dbl&gt; | windspeed &lt;dbl&gt; | casual &lt;int&gt; | registered &lt;int&gt; | count &lt;int&gt; |\n",
       "|---|---|---|---|---|---|---|---|---|---|---|---|---|---|---|---|\n",
       "| 1 | 1 | 1 | 0 | 1 | 0 | 6 | 0 | 2 | 0.344167 | 0.363625 | 0.805833 | 0.160446 | 331 |  654 |  985 |\n",
       "| 2 | 2 | 1 | 0 | 1 | 0 | 0 | 0 | 2 | 0.363478 | 0.353739 | 0.696087 | 0.248539 | 131 |  670 |  801 |\n",
       "| 3 | 3 | 1 | 0 | 1 | 0 | 1 | 1 | 1 | 0.196364 | 0.189405 | 0.437273 | 0.248309 | 120 | 1229 | 1349 |\n",
       "| 4 | 4 | 1 | 0 | 1 | 0 | 2 | 1 | 1 | 0.200000 | 0.212122 | 0.590435 | 0.160296 | 108 | 1454 | 1562 |\n",
       "| 5 | 5 | 1 | 0 | 1 | 0 | 3 | 1 | 1 | 0.226957 | 0.229270 | 0.436957 | 0.186900 |  82 | 1518 | 1600 |\n",
       "\n"
      ],
      "text/plain": [
       "  instant season yr month holiday weekday workingday weathersit temp    \n",
       "1 1       1      0  1     0       6       0          2          0.344167\n",
       "2 2       1      0  1     0       0       0          2          0.363478\n",
       "3 3       1      0  1     0       1       1          1          0.196364\n",
       "4 4       1      0  1     0       2       1          1          0.200000\n",
       "5 5       1      0  1     0       3       1          1          0.226957\n",
       "  atemp    hum      windspeed casual registered count\n",
       "1 0.363625 0.805833 0.160446  331     654        985 \n",
       "2 0.353739 0.696087 0.248539  131     670        801 \n",
       "3 0.189405 0.437273 0.248309  120    1229       1349 \n",
       "4 0.212122 0.590435 0.160296  108    1454       1562 \n",
       "5 0.229270 0.436957 0.186900   82    1518       1600 "
      ]
     },
     "metadata": {},
     "output_type": "display_data"
    },
    {
     "data": {
      "text/html": [
       "0"
      ],
      "text/latex": [
       "0"
      ],
      "text/markdown": [
       "0"
      ],
      "text/plain": [
       "[1] 0"
      ]
     },
     "metadata": {},
     "output_type": "display_data"
    }
   ],
   "source": [
    "brp = subset(brp, select = -c(dteday))\n",
    "temp_brp = subset(brp, select = -c(holiday, casual, registered, count))\n",
    "\n",
    "\n",
    "numeric_index = sapply(temp_brp ,is.numeric)\n",
    "numeric_data = temp_brp[,numeric_index]\n",
    "cnames = colnames(numeric_data)\n",
    " \n",
    "for(i in cnames)\n",
    "{\n",
    "#   print(i)\n",
    "  val = temp_brp[,i][brp[,i] %in% boxplot.stats(temp_brp[,i])$out]\n",
    "  \n",
    "#   Put NA in the place of outliers and Impute.    \n",
    "#   brp[,i][brp[,i] %in% val] = NA    \n",
    "  \n",
    "#   Remove the outliers.\n",
    "  temp_brp = temp_brp[which(!temp_brp[,i] %in% val),]\n",
    "  \n",
    "} \n",
    "\n",
    "head(temp_brp, 5)\n",
    "\n",
    "\n",
    "brp <- brp[brp$instant %in% temp_brp$instant,]\n",
    "\n",
    "# brp = knnImputation(brp, k = 3)\n",
    "head(brp, 5)\n",
    "sum(is.na(brp))\n"
   ]
  },
  {
   "cell_type": "code",
   "execution_count": 7,
   "metadata": {},
   "outputs": [
    {
     "name": "stdout",
     "output_type": "stream",
     "text": [
      "'data.frame':\t715 obs. of  15 variables:\n",
      " $ instant   : int  1 2 3 4 5 6 7 8 9 10 ...\n",
      " $ season    : int  1 1 1 1 1 1 1 1 1 1 ...\n",
      " $ yr        : int  0 0 0 0 0 0 0 0 0 0 ...\n",
      " $ month     : int  1 1 1 1 1 1 1 1 1 1 ...\n",
      " $ holiday   : int  0 0 0 0 0 0 0 0 0 0 ...\n",
      " $ weekday   : int  6 0 1 2 3 4 5 6 0 1 ...\n",
      " $ workingday: int  0 0 1 1 1 1 1 0 0 1 ...\n",
      " $ weathersit: int  2 2 1 1 1 1 2 2 1 1 ...\n",
      " $ temp      : num  0.344 0.363 0.196 0.2 0.227 ...\n",
      " $ atemp     : num  0.364 0.354 0.189 0.212 0.229 ...\n",
      " $ hum       : num  0.806 0.696 0.437 0.59 0.437 ...\n",
      " $ windspeed : num  0.16 0.249 0.248 0.16 0.187 ...\n",
      " $ casual    : int  331 131 120 108 82 88 148 68 54 41 ...\n",
      " $ registered: int  654 670 1229 1454 1518 1518 1362 891 768 1280 ...\n",
      " $ count     : int  985 801 1349 1562 1600 1606 1510 959 822 1321 ...\n"
     ]
    }
   ],
   "source": [
    "str(brp)"
   ]
  },
  {
   "cell_type": "markdown",
   "metadata": {},
   "source": [
    "## Histogram to check spread of data"
   ]
  },
  {
   "cell_type": "code",
   "execution_count": 8,
   "metadata": {},
   "outputs": [
    {
     "data": {
      "image/png": "[encoded data removed]",
      "text/plain": [
       "Plot with title \"instant\""
      ]
     },
     "metadata": {
      "image/png": {
       "height": 420,
       "width": 420
      },
      "text/plain": {
       "height": 420,
       "width": 420
      }
     },
     "output_type": "display_data"
    },
    {
     "data": {
      "image/png": "[encoded data removed]",
      "text/plain": [
       "Plot with title \"season\""
      ]
     },
     "metadata": {
      "image/png": {
       "height": 420,
       "width": 420
      },
      "text/plain": {
       "height": 420,
       "width": 420
      }
     },
     "output_type": "display_data"
    },
    {
     "data": {
      "image/png": "[encoded data removed]",
      "text/plain": [
       "Plot with title \"yr\""
      ]
     },
     "metadata": {
      "image/png": {
       "height": 420,
       "width": 420
      },
      "text/plain": {
       "height": 420,
       "width": 420
      }
     },
     "output_type": "display_data"
    },
    {
     "data": {
      "image/png": "[encoded data removed]",
      "text/plain": [
       "Plot with title \"month\""
      ]
     },
     "metadata": {
      "image/png": {
       "height": 420,
       "width": 420
      },
      "text/plain": {
       "height": 420,
       "width": 420
      }
     },
     "output_type": "display_data"
    },
    {
     "data": {
      "image/png": "[encoded data removed]",
      "text/plain": [
       "Plot with title \"holiday\""
      ]
     },
     "metadata": {
      "image/png": {
       "height": 420,
       "width": 420
      },
      "text/plain": {
       "height": 420,
       "width": 420
      }
     },
     "output_type": "display_data"
    },
    {
     "data": {
      "image/png": "[encoded data removed]",
      "text/plain": [
       "Plot with title \"weekday\""
      ]
     },
     "metadata": {
      "image/png": {
       "height": 420,
       "width": 420
      },
      "text/plain": {
       "height": 420,
       "width": 420
      }
     },
     "output_type": "display_data"
    },
    {
     "data": {
      "image/png": "[encoded data removed]",
      "text/plain": [
       "Plot with title \"workingday\""
      ]
     },
     "metadata": {
      "image/png": {
       "height": 420,
       "width": 420
      },
      "text/plain": {
       "height": 420,
       "width": 420
      }
     },
     "output_type": "display_data"
    },
    {
     "data": {
      "image/png": "[encoded data removed]",
      "text/plain": [
       "Plot with title \"weathersit\""
      ]
     },
     "metadata": {
      "image/png": {
       "height": 420,
       "width": 420
      },
      "text/plain": {
       "height": 420,
       "width": 420
      }
     },
     "output_type": "display_data"
    },
    {
     "data": {
      "image/png": "[encoded data removed]",
      "text/plain": [
       "Plot with title \"temp\""
      ]
     },
     "metadata": {
      "image/png": {
       "height": 420,
       "width": 420
      },
      "text/plain": {
       "height": 420,
       "width": 420
      }
     },
     "output_type": "display_data"
    },
    {
     "data": {
      "image/png": "[encoded data removed]",
      "text/plain": [
       "Plot with title \"atemp\""
      ]
     },
     "metadata": {
      "image/png": {
       "height": 420,
       "width": 420
      },
      "text/plain": {
       "height": 420,
       "width": 420
      }
     },
     "output_type": "display_data"
    },
    {
     "data": {
      "image/png": "[encoded data removed]",
      "text/plain": [
       "Plot with title \"hum\""
      ]
     },
     "metadata": {
      "image/png": {
       "height": 420,
       "width": 420
      },
      "text/plain": {
       "height": 420,
       "width": 420
      }
     },
     "output_type": "display_data"
    },
    {
     "data": {
      "image/png": "[encoded data removed]",
      "text/plain": [
       "Plot with title \"windspeed\""
      ]
     },
     "metadata": {
      "image/png": {
       "height": 420,
       "width": 420
      },
      "text/plain": {
       "height": 420,
       "width": 420
      }
     },
     "output_type": "display_data"
    },
    {
     "data": {
      "image/png": "[encoded data removed]",
      "text/plain": [
       "Plot with title \"casual\""
      ]
     },
     "metadata": {
      "image/png": {
       "height": 420,
       "width": 420
      },
      "text/plain": {
       "height": 420,
       "width": 420
      }
     },
     "output_type": "display_data"
    },
    {
     "data": {
      "image/png": "[encoded data removed]",
      "text/plain": [
       "Plot with title \"registered\""
      ]
     },
     "metadata": {
      "image/png": {
       "height": 420,
       "width": 420
      },
      "text/plain": {
       "height": 420,
       "width": 420
      }
     },
     "output_type": "display_data"
    },
    {
     "data": {
      "image/png": "[encoded data removed]",
      "text/plain": [
       "Plot with title \"count\""
      ]
     },
     "metadata": {
      "image/png": {
       "height": 420,
       "width": 420
      },
      "text/plain": {
       "height": 420,
       "width": 420
      }
     },
     "output_type": "display_data"
    }
   ],
   "source": [
    "# Histograms to check how the data is spreaded.\n",
    "\n",
    "cols=c('instant','season','yr','month','holiday','weekday','workingday','weathersit','temp','atemp','hum','windspeed','casual',\n",
    "       'registered','count')\n",
    "\n",
    "for(i in 1:(length(cols)))\n",
    "{\n",
    "    hist(brp[,i], xlab = cols[i],main = cols[i])\n",
    "}    \n",
    "\n",
    "\n",
    "# head(brp)\n",
    "# str(brp)\n"
   ]
  },
  {
   "cell_type": "code",
   "execution_count": 9,
   "metadata": {},
   "outputs": [
    {
     "data": {
      "image/png": "[encoded data removed]",
      "text/plain": [
       "plot without title"
      ]
     },
     "metadata": {
      "image/png": {
       "height": 420,
       "width": 420
      },
      "text/plain": {
       "height": 420,
       "width": 420
      }
     },
     "output_type": "display_data"
    }
   ],
   "source": [
    "###Correlation plot\n",
    "#Extreme Blue:highly positively correlated.\n",
    "#Extreme Red :highly negatively correlated. \n",
    "# Check co-orelation between variables\n",
    "temp_brp = subset(brp, select = -c(registered, casual, count))\n",
    "numeric_index = sapply(temp_brp ,is.numeric)\n",
    "\n",
    "numeric_data = temp_brp[,numeric_index]\n",
    "cnames = colnames(numeric_data)\n",
    "\n",
    "\n",
    "corrgram(temp_brp[,numeric_index],order = F,upper.panel=panel.pie,text.panel = panel.txt,\n",
    "         main = \"Correlation Plot\")\n"
   ]
  },
  {
   "cell_type": "code",
   "execution_count": 10,
   "metadata": {},
   "outputs": [
    {
     "name": "stdout",
     "output_type": "stream",
     "text": [
      "'data.frame':\t716 obs. of  15 variables:\n",
      " $ instant   : num  1 2 3 4 5 6 7 8 9 10 ...\n",
      " $ season    : int  1 1 1 1 1 1 1 1 1 1 ...\n",
      " $ yr        : int  0 0 0 0 0 0 0 0 0 0 ...\n",
      " $ month     : int  1 1 1 1 1 1 1 1 1 1 ...\n",
      " $ holiday   : int  0 0 0 0 0 0 0 0 0 0 ...\n",
      " $ weekday   : int  6 0 1 2 3 4 5 6 0 1 ...\n",
      " $ workingday: int  0 0 1 1 1 1 1 0 0 1 ...\n",
      " $ weathersit: int  2 2 1 1 1 1 2 2 1 1 ...\n",
      " $ temp      : num  0.344 0.363 0.196 0.2 0.227 ...\n",
      " $ atemp     : num  0.364 0.354 0.189 0.212 0.229 ...\n",
      " $ hum       : num  0.806 0.696 0.437 0.59 0.437 ...\n",
      " $ windspeed : num  0.16 0.249 0.248 0.16 0.187 ...\n",
      " $ casual    : int  331 131 120 108 82 88 148 68 54 41 ...\n",
      " $ registered: int  654 670 1229 1454 1518 1518 1362 891 768 1280 ...\n",
      " $ count     : int  985 801 1349 1562 1600 1606 1510 959 822 1321 ...\n"
     ]
    }
   ],
   "source": [
    "instant=brp[nrow(brp),'instant'] + 1\n",
    "input_index = as.integer(row.names(brp)[nrow(brp)])\n",
    "\n",
    "de <- list(instant=instant ,season=season, yr=yr, month=mnth, holiday=holiday, weekday=weekday, workingday=workingday, weathersit=weathersit, \n",
    "           temp=temp, atemp=atemp, hum=hum, windspeed=windspeed, casual=as.integer(9), registered=as.integer(432), count=as.integer(441))\n",
    "brp = rbind(brp,de, stringsAsFactors=FALSE)\n",
    "str(brp)\n",
    "\n",
    "\n",
    "brp = subset(brp, select = -c(instant, month, yr))\n",
    "hola=brp\n",
    "\n"
   ]
  },
  {
   "cell_type": "markdown",
   "metadata": {},
   "source": [
    "## Feature Scaling"
   ]
  },
  {
   "cell_type": "code",
   "execution_count": 11,
   "metadata": {},
   "outputs": [
    {
     "name": "stdout",
     "output_type": "stream",
     "text": [
      "'data.frame':\t716 obs. of  12 variables:\n",
      " $ season    : num  -1.36 -1.36 -1.36 -1.36 -1.36 ...\n",
      " $ holiday   : num  -0.174 -0.174 -0.174 -0.174 -0.174 ...\n",
      " $ weekday   : num  1.49765 -1.49348 -0.99495 -0.49643 0.00209 ...\n",
      " $ workingday: num  -1.467 -1.467 0.681 0.681 0.681 ...\n",
      " $ weathersit: num  1.101 1.101 -0.728 -0.728 -0.728 ...\n",
      " $ temp      : num  -0.834 -0.729 -1.639 -1.619 -1.472 ...\n",
      " $ atemp     : num  -0.687 -0.747 -1.751 -1.612 -1.508 ...\n",
      " $ hum       : num  1.253 0.466 -1.39 -0.292 -1.392 ...\n",
      " $ windspeed : num  -0.3826 0.7684 0.7654 -0.3846 -0.0369 ...\n",
      " $ casual    : num  -0.758 -1.048 -1.064 -1.082 -1.119 ...\n",
      " $ registered: num  -1.94 -1.93 -1.57 -1.42 -1.38 ...\n",
      " $ count     : num  -1.83 -1.92 -1.64 -1.53 -1.51 ...\n"
     ]
    }
   ],
   "source": [
    "\n",
    "cols=c('instant','season','yr','month','holiday','weekday','workingday','weathersit','temp','atemp','hum','windspeed','casual',\n",
    "       'registered','count')\n",
    "\n",
    "# Saving the continuous variable names.\n",
    "# Normalisation\n",
    "# for(i in cols)\n",
    "# {\n",
    "#   print(i)\n",
    "#   bld[,i] = (bld[,i] - min(bld[,i]))/\n",
    "#                                 (max(bld[,i]) - min(bld[,i]))\n",
    "# }\n",
    "# Above- Converting of variables in normalized variables.\n",
    "\n",
    "# Below-Standardisation(Apply it when, the data is following the normality pattern)\n",
    "for(i in names(brp))\n",
    "{\n",
    "#   print(i)\n",
    "  brp[,i] = (brp[,i] - mean(brp[,i]))/\n",
    "                                sd(brp[,i])  \n",
    "}\n",
    "# brp[,'holiday'] = (brp[,'holiday'] - mean(brp[,'holiday'])) / sd(brp[,'holiday'])\n",
    "str(brp)\n",
    "# summary(brp)"
   ]
  },
  {
   "cell_type": "markdown",
   "metadata": {},
   "source": [
    "## Create data partition"
   ]
  },
  {
   "cell_type": "code",
   "execution_count": 12,
   "metadata": {},
   "outputs": [
    {
     "data": {
      "text/html": [
       "<table>\n",
       "<caption>A data.frame: 5 × 1</caption>\n",
       "<thead>\n",
       "\t<tr><th></th><th scope=col>count</th></tr>\n",
       "\t<tr><th></th><th scope=col>&lt;int&gt;</th></tr>\n",
       "</thead>\n",
       "<tbody>\n",
       "\t<tr><th scope=row>137</th><td>4585</td></tr>\n",
       "\t<tr><th scope=row>138</th><td>5557</td></tr>\n",
       "\t<tr><th scope=row>139</th><td>4128</td></tr>\n",
       "\t<tr><th scope=row>140</th><td>1796</td></tr>\n",
       "\t<tr><th scope=row>141</th><td> 441</td></tr>\n",
       "</tbody>\n",
       "</table>\n"
      ],
      "text/latex": [
       "A data.frame: 5 × 1\n",
       "\\begin{tabular}{r|l}\n",
       "  & count\\\\\n",
       "  & <int>\\\\\n",
       "\\hline\n",
       "\t137 & 4585\\\\\n",
       "\t138 & 5557\\\\\n",
       "\t139 & 4128\\\\\n",
       "\t140 & 1796\\\\\n",
       "\t141 &  441\\\\\n",
       "\\end{tabular}\n"
      ],
      "text/markdown": [
       "\n",
       "A data.frame: 5 × 1\n",
       "\n",
       "| <!--/--> | count &lt;int&gt; |\n",
       "|---|---|\n",
       "| 137 | 4585 |\n",
       "| 138 | 5557 |\n",
       "| 139 | 4128 |\n",
       "| 140 | 1796 |\n",
       "| 141 |  441 |\n",
       "\n"
      ],
      "text/plain": [
       "    count\n",
       "137 4585 \n",
       "138 5557 \n",
       "139 4128 \n",
       "140 1796 \n",
       "141  441 "
      ]
     },
     "metadata": {},
     "output_type": "display_data"
    }
   ],
   "source": [
    "# Dividing data into train and test using stratified sampling method.(Since, our target variable \"default\" is binary classification.(Yes or no)).\n",
    "\n",
    "# library(DataCombine)\n",
    "\n",
    "set.seed(1234)\n",
    "train.index = createDataPartition(c(brp$count), p = .80, list = FALSE)\n",
    "train.index = train.index[-nrow(train.index),]\n",
    "# Above- list= false(we don't want repetitive observations in the training data,\n",
    "# responded =0.80(80% of observations in marketing_train),the func createData... will return indexes of the observations)\n",
    "train = brp[train.index,]\n",
    "test = brp[-train.index,]\n",
    "\n",
    "\n",
    "hola = hola[-train.index,]\n",
    "\n",
    "# acv = actual_count_value\n",
    "acv = as.data.frame(hola[,'count'], col.names = c('count'))\n",
    "names(acv)[names(acv) == 'hola[, \"count\"]'] <- \"count\"\n",
    "# A- Storing count variable original values and renaming its column name\n",
    "tail(acv, 5)\n"
   ]
  },
  {
   "cell_type": "markdown",
   "metadata": {},
   "source": [
    "# ML models\n",
    "## 1.Multiple Linear regression"
   ]
  },
  {
   "cell_type": "code",
   "execution_count": 13,
   "metadata": {},
   "outputs": [
    {
     "name": "stdout",
     "output_type": "stream",
     "text": [
      "Mean Square Error = 0.58\n",
      "Root mean square error = 0.70\n",
      "R-Square value = 0.52"
     ]
    },
    {
     "data": {
      "image/png": "[encoded data removed]",
      "text/plain": [
       "Plot with title \"Scatter plot for Multiple Linear regression Model\""
      ]
     },
     "metadata": {
      "image/png": {
       "height": 420,
       "width": 420
      },
      "text/plain": {
       "height": 420,
       "width": 420
      }
     },
     "output_type": "display_data"
    }
   ],
   "source": [
    "# temp_brp = subset(brp, select=-c(count))\n",
    "\n",
    "LR_model <- lm(count ~ season + holiday + weekday + workingday + weathersit \n",
    "                   + temp + atemp + hum + windspeed, data=brp)  \n",
    "\n",
    "# summary(LR_model)\n",
    "\n",
    "pred <- predict(LR_model, newdata = test)\n",
    "\n",
    "cat(sprintf (\"Mean Square Error = %0.2f\", MAE(pred, test$count)))\n",
    "cat(sprintf (\"\\nRoot mean square error = %0.2f\",RMSE(pred, test$count)))\n",
    "cat(sprintf (\"\\nR-Square value = %0.2f\",R2(pred, test$count)))\n",
    "\n",
    "\n",
    "pred<- as.data.frame(pred)\n",
    "names(pred)[names(pred) == \"1\"] <- \"pred\"\n",
    "ole = data.frame(observed=test$count, predicted=pred$pred, stringsAsFactors = FALSE)\n",
    "\n",
    "plot(ole$observed, ole$predicted,main = \"Scatter plot for Multiple Linear regression Model\",\n",
    "     xlab = \"Observed\", ylab = \"predicted\",\n",
    "     pch = 19, frame = FALSE)\n",
    "abline(lm(predicted ~ observed, data=ole), col = \"blue\")\n"
   ]
  },
  {
   "cell_type": "markdown",
   "metadata": {},
   "source": [
    "## For input data"
   ]
  },
  {
   "cell_type": "code",
   "execution_count": 14,
   "metadata": {},
   "outputs": [
    {
     "name": "stdout",
     "output_type": "stream",
     "text": [
      "\n",
      "Actual count value\n",
      " 441\n",
      "Predicted count value\n",
      " 747"
     ]
    }
   ],
   "source": [
    "\n",
    "dcv = pred$pred*(sd(acv$count)) + mean(acv$count) \n",
    "\n",
    "dcv = as.data.frame(dcv)\n",
    "\n",
    "\n",
    "cat(\"\\nActual count value\\n\", acv[nrow(acv),1])\n",
    "cat(\"\\nPredicted count value\\n\", as.integer(dcv[nrow(dcv),1]))\n"
   ]
  },
  {
   "cell_type": "markdown",
   "metadata": {},
   "source": [
    "## 2.Decision Tree Regression"
   ]
  },
  {
   "cell_type": "code",
   "execution_count": 15,
   "metadata": {},
   "outputs": [
    {
     "name": "stdout",
     "output_type": "stream",
     "text": [
      "Mean Square Error = 0.48\n",
      "Root mean square error = 0.59\n",
      "R-Square value = 0.67"
     ]
    },
    {
     "data": {
      "image/png": "[encoded data removed]",
      "text/plain": [
       "Plot with title \"Scatter plot for Decision tree Regression Model\""
      ]
     },
     "metadata": {
      "image/png": {
       "height": 420,
       "width": 420
      },
      "text/plain": {
       "height": 420,
       "width": 420
      }
     },
     "output_type": "display_data"
    }
   ],
   "source": [
    "library(rpart)\n",
    "\n",
    "DT_model <- rpart(count ~ season + holiday + weekday + workingday + weathersit \n",
    "                   + temp + atemp + hum + windspeed,  method=\"anova\", data=brp )\n",
    "\n",
    "pred <- predict(DT_model, newdata = test)\n",
    "\n",
    "cat(sprintf (\"Mean Square Error = %0.2f\", MAE(pred, test$count)))\n",
    "cat(sprintf (\"\\nRoot mean square error = %0.2f\",RMSE(pred, test$count)))\n",
    "cat(sprintf (\"\\nR-Square value = %0.2f\",R2(pred, test$count)))\n",
    "\n",
    "pred<- as.data.frame(pred)\n",
    "names(pred)[names(pred) == \"1\"] <- \"pred\"\n",
    "ole = data.frame(observed=test$count, predicted=pred$pred, stringsAsFactors = FALSE)\n",
    "\n",
    "plot(ole$observed, ole$predicted,main = \"Scatter plot for Decision tree Regression Model\",\n",
    "     xlab = \"Observed\", ylab = \"predicted\",\n",
    "     pch = 19, frame = FALSE)\n",
    "abline(lm(predicted ~ observed, data=ole), col = \"blue\")\n"
   ]
  },
  {
   "cell_type": "markdown",
   "metadata": {},
   "source": [
    "## For input data"
   ]
  },
  {
   "cell_type": "code",
   "execution_count": 16,
   "metadata": {},
   "outputs": [
    {
     "name": "stdout",
     "output_type": "stream",
     "text": [
      "\n",
      "Actual count value\n",
      " 441\n",
      "Predicted count value\n",
      " 1545"
     ]
    }
   ],
   "source": [
    "\n",
    "dcv = pred$pred*(sd(acv$count)) + mean(acv$count) \n",
    "\n",
    "dcv = as.data.frame(dcv)\n",
    "\n",
    "\n",
    "cat(\"\\nActual count value\\n\", acv[nrow(acv),1])\n",
    "cat(\"\\nPredicted count value\\n\", as.integer(dcv[nrow(dcv),1]))\n"
   ]
  },
  {
   "cell_type": "markdown",
   "metadata": {},
   "source": [
    "## 3.Random Forest"
   ]
  },
  {
   "cell_type": "code",
   "execution_count": 17,
   "metadata": {},
   "outputs": [
    {
     "name": "stdout",
     "output_type": "stream",
     "text": [
      "Mean Square Error = 0.25\n",
      "Root mean square error = 0.28\n",
      "R-Square value = 0.94"
     ]
    },
    {
     "data": {
      "image/png": "[encoded data removed]",
      "text/plain": [
       "Plot with title \"Scatter plot for Random Forest Model\""
      ]
     },
     "metadata": {
      "image/png": {
       "height": 420,
       "width": 420
      },
      "text/plain": {
       "height": 420,
       "width": 420
      }
     },
     "output_type": "display_data"
    }
   ],
   "source": [
    "library(rpart)\n",
    "\n",
    "RF_model <- randomForest(count ~ season + holiday + weekday + workingday + weathersit \n",
    "                   + temp + atemp + hum + windspeed, data=brp, prox=TRUE)\n",
    "\n",
    "\n",
    "pred <- predict(RF_model, newdata = test)\n",
    "\n",
    "cat(sprintf (\"Mean Square Error = %0.2f\", MAE(pred, test$count)))\n",
    "cat(sprintf (\"\\nRoot mean square error = %0.2f\",RMSE(pred, test$count)))\n",
    "cat(sprintf (\"\\nR-Square value = %0.2f\",R2(pred, test$count)))\n",
    "\n",
    "pred<- as.data.frame(pred)\n",
    "names(pred)[names(pred) == \"1\"] <- \"pred\"\n",
    "ole = data.frame(observed=test$count, predicted=pred$pred, stringsAsFactors = FALSE)\n",
    "\n",
    "plot(ole$observed, ole$predicted,main = \"Scatter plot for Random Forest Model\",\n",
    "     xlab = \"Observed\", ylab = \"predicted\",\n",
    "     pch = 19, frame = FALSE)\n",
    "abline(lm(predicted ~ observed, data=ole), col = \"blue\")\n",
    "\n"
   ]
  },
  {
   "cell_type": "markdown",
   "metadata": {},
   "source": [
    "## For input data"
   ]
  },
  {
   "cell_type": "code",
   "execution_count": 18,
   "metadata": {},
   "outputs": [
    {
     "name": "stdout",
     "output_type": "stream",
     "text": [
      "\n",
      "Actual count value\n",
      " 441\n",
      "Predicted count value\n",
      " 580"
     ]
    }
   ],
   "source": [
    "dcv = pred$pred*(sd(acv$count)) + mean(acv$count) \n",
    "\n",
    "dcv = as.data.frame(dcv)\n",
    "\n",
    "\n",
    "cat(\"\\nActual count value\\n\", acv[nrow(acv),1])\n",
    "cat(\"\\nPredicted count value\\n\", as.integer(dcv[nrow(dcv),1]))\n"
   ]
  },
  {
   "cell_type": "markdown",
   "metadata": {},
   "source": [
    "## 4.GBM Model"
   ]
  },
  {
   "cell_type": "code",
   "execution_count": 19,
   "metadata": {},
   "outputs": [
    {
     "name": "stdout",
     "output_type": "stream",
     "text": [
      "Mean Square Error = 0.21\n",
      "Root mean square error = 0.25\n",
      "R-Square value = 0.94"
     ]
    },
    {
     "data": {
      "image/png": "[encoded data removed]",
      "text/plain": [
       "Plot with title \"Scatter plot for Gradient Boosting Model\""
      ]
     },
     "metadata": {
      "image/png": {
       "height": 420,
       "width": 420
      },
      "text/plain": {
       "height": 420,
       "width": 420
      }
     },
     "output_type": "display_data"
    }
   ],
   "source": [
    "GB_model <- gbm(count ~ season + holiday + weekday + workingday + weathersit \n",
    "                   + temp + atemp + hum + windspeed, data=brp,distribution = \"gaussian\",n.trees = 10000,\n",
    "                  shrinkage = 0.01, interaction.depth = 4)\n",
    "\n",
    "\n",
    "pred <- predict(GB_model, newdata=test, n.trees=10000, type = \"link\", single.tree = FALSE)\n",
    "cat(sprintf (\"Mean Square Error = %0.2f\", MAE(pred, test$count)))\n",
    "cat(sprintf (\"\\nRoot mean square error = %0.2f\",RMSE(pred, test$count)))\n",
    "cat(sprintf (\"\\nR-Square value = %0.2f\",R2(pred, test$count)))\n",
    "\n",
    "pred<- as.data.frame(pred)\n",
    "names(pred)[names(pred) == \"1\"] <- \"pred\"\n",
    "ole = data.frame(observed=test$count, predicted=pred$pred, stringsAsFactors = FALSE)\n",
    "\n",
    "plot(ole$observed, ole$predicted,main = \"Scatter plot for Gradient Boosting Model\",\n",
    "     xlab = \"Observed\", ylab = \"predicted\",\n",
    "     pch = 19, frame = FALSE)\n",
    "abline(lm(predicted ~ observed, data=ole), col = \"blue\")\n"
   ]
  },
  {
   "cell_type": "markdown",
   "metadata": {},
   "source": [
    "## For input data"
   ]
  },
  {
   "cell_type": "code",
   "execution_count": 20,
   "metadata": {},
   "outputs": [
    {
     "name": "stdout",
     "output_type": "stream",
     "text": [
      "\n",
      "Actual count value\n",
      " 441\n",
      "Predicted count value\n",
      " 364"
     ]
    }
   ],
   "source": [
    "dcv = pred$pred*(sd(acv$count)) + mean(acv$count) \n",
    "\n",
    "dcv = as.data.frame(dcv)\n",
    "\n",
    "\n",
    "cat(\"\\nActual count value\\n\", acv[nrow(acv),1])\n",
    "cat(\"\\nPredicted count value\\n\", as.integer(dcv[nrow(dcv),1]))\n"
   ]
  },
  {
   "cell_type": "markdown",
   "metadata": {},
   "source": [
    "## 5.Extreme Gradient Boosting Model "
   ]
  },
  {
   "cell_type": "code",
   "execution_count": 21,
   "metadata": {},
   "outputs": [
    {
     "name": "stdout",
     "output_type": "stream",
     "text": [
      "Mean Square Error = 0.01\n",
      "Root mean square error = 0.01\n",
      "R-Square value = 1.00"
     ]
    },
    {
     "data": {
      "image/png": "[encoded data removed]",
      "text/plain": [
       "Plot with title \"Scatter plot for Extreme Gradient Boosting Model\""
      ]
     },
     "metadata": {
      "image/png": {
       "height": 420,
       "width": 420
      },
      "text/plain": {
       "height": 420,
       "width": 420
      }
     },
     "output_type": "display_data"
    }
   ],
   "source": [
    "library(xgboost) \n",
    "XGB_model <- xgboost(data = as.matrix(train), # training data as matrix\n",
    "                      label = train$count,  # column of outcomes\n",
    "                      nrounds = 250,       # number of trees to build\n",
    "                      objective = \"reg:linear\", # objective\n",
    "                      eta = 0.02,\n",
    "                      depth = 3,\n",
    "                      verbose = 0  # silent\n",
    ")\n",
    "\n",
    "pred <- predict(XGB_model, newdata=as.matrix(test))\n",
    "\n",
    "cat(sprintf (\"Mean Square Error = %0.2f\", MAE(pred, test$count)))\n",
    "cat(sprintf (\"\\nRoot mean square error = %0.2f\",RMSE(pred, test$count)))\n",
    "cat(sprintf (\"\\nR-Square value = %0.2f\",R2(pred, test$count)))\n",
    "\n",
    "pred<- as.data.frame(pred)\n",
    "names(pred)[names(pred) == \"1\"] <- \"pred\"\n",
    "ole = data.frame(observed=test$count, predicted=pred$pred, stringsAsFactors = FALSE)\n",
    "\n",
    "plot(ole$observed, ole$predicted,main = \"Scatter plot for Extreme Gradient Boosting Model\",\n",
    "     xlab = \"Observed\", ylab = \"predicted\",\n",
    "     pch = 19, frame = FALSE)\n",
    "abline(lm(predicted ~ observed, data=ole), col = \"blue\")"
   ]
  },
  {
   "cell_type": "markdown",
   "metadata": {},
   "source": [
    "## For input data"
   ]
  },
  {
   "cell_type": "code",
   "execution_count": 22,
   "metadata": {},
   "outputs": [
    {
     "name": "stdout",
     "output_type": "stream",
     "text": [
      "\n",
      "Actual count value\n",
      " 441\n",
      "Predicted count value\n",
      " 414"
     ]
    }
   ],
   "source": [
    "dcv = pred$pred*(sd(acv$count)) + mean(acv$count) \n",
    "\n",
    "dcv = as.data.frame(dcv)\n",
    "\n",
    "\n",
    "cat(\"\\nActual count value\\n\", acv[nrow(acv),1])\n",
    "cat(\"\\nPredicted count value\\n\", as.integer(dcv[nrow(dcv),1]))\n"
   ]
  },
  {
   "cell_type": "markdown",
   "metadata": {},
   "source": [
    "## 6.Ridge Regression"
   ]
  },
  {
   "cell_type": "code",
   "execution_count": 23,
   "metadata": {},
   "outputs": [
    {
     "name": "stdout",
     "output_type": "stream",
     "text": [
      "Mean Square Error = 0.48\n",
      "Root mean square error = 0.69\n",
      "R-Square value = -0.01"
     ]
    },
    {
     "data": {
      "image/png": "[encoded data removed]",
      "text/plain": [
       "Plot with title \"Scatter plot for Ridge Regression\""
      ]
     },
     "metadata": {
      "image/png": {
       "height": 420,
       "width": 420
      },
      "text/plain": {
       "height": 420,
       "width": 420
      }
     },
     "output_type": "display_data"
    }
   ],
   "source": [
    "y <- train$count\n",
    "x <- as.matrix(train[,1:9])\n",
    "lambdas <- 10^seq(3, -2, by = -.1)\n",
    "\n",
    "RR_model <- cv.glmnet(x, y, alpha = 0, lambda = lambdas)\n",
    "\n",
    "opt_lambda <- RR_model$lambda.min\n",
    "# opt_lambda\n",
    "\n",
    "pred <- predict(RR_model, s = opt_lambda, newx = as.matrix(test[,1:9]))\n",
    "\n",
    "sst <- sum(test$count - mean(test$count^2))\n",
    "sse <- sum((pred -test$count^2))\n",
    "MSE=min(RR_model$cvm)\n",
    "\n",
    "cat(sprintf (\"Mean Square Error = %0.2f\", MSE))\n",
    "cat(sprintf (\"\\nRoot mean square error = %0.2f\", sqrt(MSE)))\n",
    "cat(sprintf (\"\\nR-Square value = %0.2f\",1 - sse / sst))\n",
    "\n",
    "\n",
    "\n",
    "\n",
    "pred<- as.data.frame(pred)\n",
    "names(pred)[names(pred) == \"1\"] <- \"pred\"\n",
    "ole = data.frame(observed=test$count, predicted=pred$pred, stringsAsFactors = FALSE)\n",
    "\n",
    "plot(ole$observed, ole$predicted,main = \"Scatter plot for Ridge Regression\",\n",
    "     xlab = \"Observed\", ylab = \"predicted\",\n",
    "     pch = 19, frame = FALSE)\n",
    "abline(lm(predicted ~ observed, data=ole), col = \"blue\")\n",
    "\n"
   ]
  },
  {
   "cell_type": "markdown",
   "metadata": {},
   "source": [
    "## For input data"
   ]
  },
  {
   "cell_type": "code",
   "execution_count": 24,
   "metadata": {},
   "outputs": [
    {
     "name": "stdout",
     "output_type": "stream",
     "text": [
      "\n",
      "Actual count value\n",
      " 441\n",
      "Predicted count value\n",
      " 897"
     ]
    }
   ],
   "source": [
    "dcv = pred$pred*(sd(acv$count)) + mean(acv$count) \n",
    "\n",
    "dcv = as.data.frame(dcv)\n",
    "\n",
    "\n",
    "cat(\"\\nActual count value\\n\", acv[nrow(acv),1])\n",
    "cat(\"\\nPredicted count value\\n\", as.integer(dcv[nrow(dcv),1]))\n"
   ]
  },
  {
   "cell_type": "markdown",
   "metadata": {},
   "source": [
    "## 7.SVR model"
   ]
  },
  {
   "cell_type": "code",
   "execution_count": 25,
   "metadata": {
    "scrolled": true
   },
   "outputs": [
    {
     "name": "stderr",
     "output_type": "stream",
     "text": [
      "Warning message in pred - y:\n",
      "\"longer object length is not a multiple of shorter object length\"\n"
     ]
    },
    {
     "name": "stdout",
     "output_type": "stream",
     "text": [
      "Mean Square Error = 0.45\n",
      "Root mean square error = 0.56\n",
      "R-Square value = 0.61"
     ]
    },
    {
     "data": {
      "image/png": "[encoded data removed]",
      "text/plain": [
       "Plot with title \"Scatter plot for SVR model\""
      ]
     },
     "metadata": {
      "image/png": {
       "height": 420,
       "width": 420
      },
      "text/plain": {
       "height": 420,
       "width": 420
      }
     },
     "output_type": "display_data"
    }
   ],
   "source": [
    "SVR_model = svm(count ~ season + holiday + weekday + workingday + weathersit \n",
    "                   + temp + atemp + hum + windspeed, data=brp, importance=TRUE)\n",
    "pred = predict(SVR_model, test)\n",
    "\n",
    "\n",
    "sst <- sum((y - mean(y))^2)\n",
    "sse <- sum((pred - y)^2)\n",
    "\n",
    "\n",
    "cat(sprintf (\"Mean Square Error = %0.2f\", MAE(pred, test$count)))\n",
    "cat(sprintf (\"\\nRoot mean square error = %0.2f\",RMSE(pred, test$count)))\n",
    "cat(sprintf (\"\\nR-Square value = %0.2f\", -(1 - sse / sst)))\n",
    "\n",
    "pred <- as.data.frame(pred)\n",
    "\n",
    "plot(test$count, pred$pred,main = \"Scatter plot for SVR model\",\n",
    "     xlab = \"Observed\", ylab = \"predicted\",\n",
    "     pch = 19, frame = FALSE)\n",
    "abline(lm(pred$pred ~ test$count), col = \"blue\")\n"
   ]
  },
  {
   "cell_type": "markdown",
   "metadata": {},
   "source": [
    "## For input data"
   ]
  },
  {
   "cell_type": "code",
   "execution_count": 26,
   "metadata": {},
   "outputs": [
    {
     "name": "stdout",
     "output_type": "stream",
     "text": [
      "\n",
      "Actual count value\n",
      " 441\n",
      "Predicted count value\n",
      " 533"
     ]
    }
   ],
   "source": [
    "dcv = pred$pred*(sd(acv$count)) + mean(acv$count) \n",
    "\n",
    "dcv = as.data.frame(dcv)\n",
    "\n",
    "\n",
    "cat(\"\\nActual count value\\n\", acv[nrow(acv),1])\n",
    "cat(\"\\nPredicted count value\\n\", as.integer(dcv[nrow(dcv),1]))\n"
   ]
  }
 ],
 "metadata": {
  "kernelspec": {
   "display_name": "R",
   "language": "R",
   "name": "ir"
  },
  "language_info": {
   "codemirror_mode": "r",
   "file_extension": ".r",
   "mimetype": "text/x-r-source",
   "name": "R",
   "pygments_lexer": "r",
   "version": "3.6.3"
  }
 },
 "nbformat": 4,
 "nbformat_minor": 4
}
